{
 "metadata": {
  "language_info": {
   "codemirror_mode": {
    "name": "ipython",
    "version": 3
   },
   "file_extension": ".py",
   "mimetype": "text/x-python",
   "name": "python",
   "nbconvert_exporter": "python",
   "pygments_lexer": "ipython3",
   "version": "3.7.7-final"
  },
  "orig_nbformat": 2,
  "kernelspec": {
   "name": "python37664bitbaseconda770b90642af9490588b132375ca55b99",
   "display_name": "Python 3.7.6 64-bit ('base': conda)"
  }
 },
 "nbformat": 4,
 "nbformat_minor": 2,
 "cells": [
  {
   "cell_type": "code",
   "execution_count": 96,
   "metadata": {},
   "outputs": [],
   "source": [
    "import pandas as pd\n",
    "import numpy as np\n",
    "import matplotlib as mpl\n",
    "import matplotlib.pyplot as plt\n",
    "import seaborn as sb"
   ]
  },
  {
   "cell_type": "code",
   "execution_count": 97,
   "metadata": {},
   "outputs": [],
   "source": [
    "scores2015 = pd.read_json('scores2015.json', orient='records')\n",
    "scores2016 = pd.read_json('scores2016.json', orient='records')\n",
    "scores2017 = pd.read_json('scores2017.json', orient='records')\n",
    "scores2018 = pd.read_json('scores2018.json', orient='records')\n",
    "scores2019 = pd.read_json('scores2019.json', orient='records')"
   ]
  },
  {
   "cell_type": "code",
   "execution_count": 98,
   "metadata": {},
   "outputs": [],
   "source": [
    "scores2015.insert(loc=1, column='Year', value=2015)\n",
    "scores2016.insert(loc=1, column='Year', value=2016)\n",
    "scores2017.insert(loc=1, column='Year', value=2017)\n",
    "scores2018.insert(loc=1, column='Year', value=2018)\n",
    "scores2019.insert(loc=1, column='Year', value=2019)"
   ]
  },
  {
   "cell_type": "code",
   "execution_count": 99,
   "metadata": {},
   "outputs": [],
   "source": [
    "scores2017 = scores2017.merge(scores2015[['Code', 'Region']], how='left', on='Code')"
   ]
  },
  {
   "cell_type": "code",
   "execution_count": 100,
   "metadata": {},
   "outputs": [],
   "source": [
    "scores2017.loc[91, 'Region'] = 'Sub-Saharan Africa'\n",
    "scores2017.loc[49, 'Region'] = 'Latin America and Caribbean'\n",
    "scores2017.loc[109, 'Region'] = 'Sub-Saharan Africa'\n",
    "scores2017.loc[145, 'Region'] = 'Sub-Saharan Africa'"
   ]
  },
  {
   "cell_type": "code",
   "execution_count": 101,
   "metadata": {
    "tags": []
   },
   "outputs": [
    {
     "output_type": "execute_result",
     "data": {
      "text/plain": "Empty DataFrame\nColumns: [Country, Year, Score, GDP per capita, Social support, Healthy life expectancy, Freedom to make life choices, Generosity, Perceptions of corruption, Code, Region]\nIndex: []",
      "text/html": "<div>\n<style scoped>\n    .dataframe tbody tr th:only-of-type {\n        vertical-align: middle;\n    }\n\n    .dataframe tbody tr th {\n        vertical-align: top;\n    }\n\n    .dataframe thead th {\n        text-align: right;\n    }\n</style>\n<table border=\"1\" class=\"dataframe\">\n  <thead>\n    <tr style=\"text-align: right;\">\n      <th></th>\n      <th>Country</th>\n      <th>Year</th>\n      <th>Score</th>\n      <th>GDP per capita</th>\n      <th>Social support</th>\n      <th>Healthy life expectancy</th>\n      <th>Freedom to make life choices</th>\n      <th>Generosity</th>\n      <th>Perceptions of corruption</th>\n      <th>Code</th>\n      <th>Region</th>\n    </tr>\n  </thead>\n  <tbody>\n  </tbody>\n</table>\n</div>"
     },
     "metadata": {},
     "execution_count": 101
    }
   ],
   "source": [
    "scores2017[scores2017.Region.isnull()]"
   ]
  },
  {
   "cell_type": "code",
   "execution_count": 102,
   "metadata": {
    "tags": []
   },
   "outputs": [],
   "source": [
    "scores2018 = scores2018.merge(scores2015[['Code', 'Region']], how='left', on='Code')"
   ]
  },
  {
   "cell_type": "code",
   "execution_count": 103,
   "metadata": {
    "tags": []
   },
   "outputs": [],
   "source": [
    "scores2018.loc[96, 'Region'] = 'Sub-Saharan Africa'\n",
    "scores2018.loc[48, 'Region'] = 'Latin America and Caribbean'\n",
    "scores2018.loc[117, 'Region'] = 'Sub-Saharan Africa'\n",
    "scores2018.loc[152, 'Region'] = 'Sub-Saharan Africa'"
   ]
  },
  {
   "cell_type": "code",
   "execution_count": 104,
   "metadata": {},
   "outputs": [
    {
     "output_type": "execute_result",
     "data": {
      "text/plain": "Empty DataFrame\nColumns: [Country, Year, Score, GDP per capita, Social support, Healthy life expectancy, Freedom to make life choices, Generosity, Perceptions of corruption, Code, Region]\nIndex: []",
      "text/html": "<div>\n<style scoped>\n    .dataframe tbody tr th:only-of-type {\n        vertical-align: middle;\n    }\n\n    .dataframe tbody tr th {\n        vertical-align: top;\n    }\n\n    .dataframe thead th {\n        text-align: right;\n    }\n</style>\n<table border=\"1\" class=\"dataframe\">\n  <thead>\n    <tr style=\"text-align: right;\">\n      <th></th>\n      <th>Country</th>\n      <th>Year</th>\n      <th>Score</th>\n      <th>GDP per capita</th>\n      <th>Social support</th>\n      <th>Healthy life expectancy</th>\n      <th>Freedom to make life choices</th>\n      <th>Generosity</th>\n      <th>Perceptions of corruption</th>\n      <th>Code</th>\n      <th>Region</th>\n    </tr>\n  </thead>\n  <tbody>\n  </tbody>\n</table>\n</div>"
     },
     "metadata": {},
     "execution_count": 104
    }
   ],
   "source": [
    "scores2018[scores2018.Region.isnull()]"
   ]
  },
  {
   "cell_type": "code",
   "execution_count": 105,
   "metadata": {},
   "outputs": [],
   "source": [
    "scores2019 = scores2019.merge(scores2015[['Code', 'Region']], how='left', on='Code')"
   ]
  },
  {
   "cell_type": "code",
   "execution_count": 106,
   "metadata": {},
   "outputs": [],
   "source": [
    "scores2019.loc[110, 'Region'] = 'Sub-Saharan Africa'\n",
    "scores2019.loc[118, 'Region'] = 'Sub-Saharan Africa'\n",
    "scores2019.loc[111, 'Region'] = 'Sub-Saharan Africa'\n",
    "scores2019.loc[154, 'Region'] = 'Sub-Saharan Africa'"
   ]
  },
  {
   "cell_type": "code",
   "execution_count": 107,
   "metadata": {},
   "outputs": [
    {
     "output_type": "execute_result",
     "data": {
      "text/plain": "Empty DataFrame\nColumns: [Country, Year, Score, GDP per capita, Social support, Healthy life expectancy, Freedom to make life choices, Generosity, Perceptions of corruption, Code, Region]\nIndex: []",
      "text/html": "<div>\n<style scoped>\n    .dataframe tbody tr th:only-of-type {\n        vertical-align: middle;\n    }\n\n    .dataframe tbody tr th {\n        vertical-align: top;\n    }\n\n    .dataframe thead th {\n        text-align: right;\n    }\n</style>\n<table border=\"1\" class=\"dataframe\">\n  <thead>\n    <tr style=\"text-align: right;\">\n      <th></th>\n      <th>Country</th>\n      <th>Year</th>\n      <th>Score</th>\n      <th>GDP per capita</th>\n      <th>Social support</th>\n      <th>Healthy life expectancy</th>\n      <th>Freedom to make life choices</th>\n      <th>Generosity</th>\n      <th>Perceptions of corruption</th>\n      <th>Code</th>\n      <th>Region</th>\n    </tr>\n  </thead>\n  <tbody>\n  </tbody>\n</table>\n</div>"
     },
     "metadata": {},
     "execution_count": 107
    }
   ],
   "source": [
    "scores2019[scores2019.Region.isnull()]"
   ]
  },
  {
   "cell_type": "code",
   "execution_count": 108,
   "metadata": {
    "tags": []
   },
   "outputs": [
    {
     "output_type": "stream",
     "name": "stdout",
     "text": "<class 'pandas.core.frame.DataFrame'>\nInt64Index: 155 entries, 0 to 154\nData columns (total 11 columns):\n #   Column                        Non-Null Count  Dtype  \n---  ------                        --------------  -----  \n 0   Country                       155 non-null    object \n 1   Year                          155 non-null    int64  \n 2   Score                         155 non-null    float64\n 3   GDP per capita                155 non-null    float64\n 4   Social support                155 non-null    float64\n 5   Healthy life expectancy       155 non-null    float64\n 6   Freedom to make life choices  155 non-null    float64\n 7   Generosity                    155 non-null    float64\n 8   Perceptions of corruption     155 non-null    float64\n 9   Code                          155 non-null    object \n 10  Region                        155 non-null    object \ndtypes: float64(7), int64(1), object(3)\nmemory usage: 19.5+ KB\n"
    }
   ],
   "source": [
    "scores2019.info()"
   ]
  },
  {
   "cell_type": "code",
   "execution_count": 109,
   "metadata": {},
   "outputs": [],
   "source": [
    "merged = scores2015.merge(scores2016, how='outer')"
   ]
  },
  {
   "cell_type": "code",
   "execution_count": 110,
   "metadata": {},
   "outputs": [],
   "source": [
    "merged = merged.merge(scores2017, how='outer')"
   ]
  },
  {
   "cell_type": "code",
   "execution_count": 111,
   "metadata": {},
   "outputs": [],
   "source": [
    "merged = merged.merge(scores2018, how='outer')"
   ]
  },
  {
   "cell_type": "code",
   "execution_count": 112,
   "metadata": {},
   "outputs": [],
   "source": [
    "merged = merged.merge(scores2019, how='outer')"
   ]
  },
  {
   "cell_type": "code",
   "execution_count": 114,
   "metadata": {
    "tags": []
   },
   "outputs": [
    {
     "output_type": "stream",
     "name": "stdout",
     "text": "<class 'pandas.core.frame.DataFrame'>\nInt64Index: 775 entries, 0 to 774\nData columns (total 11 columns):\n #   Column                        Non-Null Count  Dtype  \n---  ------                        --------------  -----  \n 0   Country                       775 non-null    object \n 1   Year                          775 non-null    int64  \n 2   Region                        775 non-null    object \n 3   Score                         775 non-null    float64\n 4   GDP per capita                775 non-null    float64\n 5   Social support                775 non-null    float64\n 6   Healthy life expectancy       775 non-null    float64\n 7   Freedom to make life choices  775 non-null    float64\n 8   Perceptions of corruption     774 non-null    float64\n 9   Generosity                    775 non-null    float64\n 10  Code                          775 non-null    object \ndtypes: float64(7), int64(1), object(3)\nmemory usage: 92.7+ KB\n"
    }
   ],
   "source": [
    "merged.info()"
   ]
  },
  {
   "cell_type": "code",
   "execution_count": 121,
   "metadata": {},
   "outputs": [],
   "source": [
    "merged = merged.rename(columns={'Healthy life expectancy': 'Life expectancy'})"
   ]
  },
  {
   "cell_type": "code",
   "execution_count": 122,
   "metadata": {},
   "outputs": [],
   "source": [
    "merged.to_json('merged.json', orient='records')"
   ]
  },
  {
   "cell_type": "code",
   "execution_count": null,
   "metadata": {},
   "outputs": [],
   "source": []
  }
 ]
}